{
 "cells": [
  {
   "cell_type": "code",
   "execution_count": null,
   "id": "c9e4f7c0-e744-467c-98ce-52e8b966717f",
   "metadata": {},
   "outputs": [],
   "source": []
  },
  {
   "cell_type": "code",
   "execution_count": null,
   "id": "8b6c7ecc-4341-420b-98eb-31e4bfadedf8",
   "metadata": {},
   "outputs": [
    {
     "name": "stdout",
     "output_type": "stream",
     "text": [
      "Requirement already satisfied: transformers in c:\\users\\cemre\\anaconda3\\lib\\site-packages (4.47.0)\n",
      "Requirement already satisfied: simpletransformers in c:\\users\\cemre\\anaconda3\\lib\\site-packages (0.70.1)\n",
      "Requirement already satisfied: pandas in c:\\users\\cemre\\anaconda3\\lib\\site-packages (2.2.2)\n",
      "Requirement already satisfied: scikit-learn in c:\\users\\cemre\\anaconda3\\lib\\site-packages (1.5.1)\n",
      "Requirement already satisfied: imblearn in c:\\users\\cemre\\anaconda3\\lib\\site-packages (0.0)\n",
      "Requirement already satisfied: gradio in c:\\users\\cemre\\anaconda3\\lib\\site-packages (5.8.0)\n",
      "Requirement already satisfied: filelock in c:\\users\\cemre\\anaconda3\\lib\\site-packages (from transformers) (3.13.1)\n",
      "Requirement already satisfied: huggingface-hub<1.0,>=0.24.0 in c:\\users\\cemre\\anaconda3\\lib\\site-packages (from transformers) (0.26.5)\n",
      "Requirement already satisfied: numpy>=1.17 in c:\\users\\cemre\\anaconda3\\lib\\site-packages (from transformers) (1.26.4)\n",
      "Requirement already satisfied: packaging>=20.0 in c:\\users\\cemre\\anaconda3\\lib\\site-packages (from transformers) (24.1)\n",
      "Requirement already satisfied: pyyaml>=5.1 in c:\\users\\cemre\\anaconda3\\lib\\site-packages (from transformers) (6.0.1)\n",
      "Requirement already satisfied: regex!=2019.12.17 in c:\\users\\cemre\\anaconda3\\lib\\site-packages (from transformers) (2024.9.11)\n",
      "Requirement already satisfied: requests in c:\\users\\cemre\\anaconda3\\lib\\site-packages (from transformers) (2.32.3)\n",
      "Requirement already satisfied: tokenizers<0.22,>=0.21 in c:\\users\\cemre\\anaconda3\\lib\\site-packages (from transformers) (0.21.0)\n",
      "Requirement already satisfied: safetensors>=0.4.1 in c:\\users\\cemre\\anaconda3\\lib\\site-packages (from transformers) (0.4.5)\n",
      "Requirement already satisfied: tqdm>=4.27 in c:\\users\\cemre\\anaconda3\\lib\\site-packages (from transformers) (4.66.5)\n",
      "Requirement already satisfied: datasets in c:\\users\\cemre\\anaconda3\\lib\\site-packages (from simpletransformers) (3.2.0)\n",
      "Requirement already satisfied: scipy in c:\\users\\cemre\\anaconda3\\lib\\site-packages (from simpletransformers) (1.13.1)\n",
      "Requirement already satisfied: seqeval in c:\\users\\cemre\\anaconda3\\lib\\site-packages (from simpletransformers) (1.2.2)\n",
      "Requirement already satisfied: tensorboard in c:\\users\\cemre\\anaconda3\\lib\\site-packages (from simpletransformers) (2.18.0)\n",
      "Requirement already satisfied: tensorboardx in c:\\users\\cemre\\anaconda3\\lib\\site-packages (from simpletransformers) (2.6.2.2)\n",
      "Requirement already satisfied: wandb>=0.10.32 in c:\\users\\cemre\\anaconda3\\lib\\site-packages (from simpletransformers) (0.19.0)\n",
      "Requirement already satisfied: streamlit in c:\\users\\cemre\\anaconda3\\lib\\site-packages (from simpletransformers) (1.37.1)\n",
      "Requirement already satisfied: sentencepiece in c:\\users\\cemre\\anaconda3\\lib\\site-packages (from simpletransformers) (0.2.0)\n",
      "Requirement already satisfied: python-dateutil>=2.8.2 in c:\\users\\cemre\\anaconda3\\lib\\site-packages (from pandas) (2.9.0.post0)\n",
      "Requirement already satisfied: pytz>=2020.1 in c:\\users\\cemre\\anaconda3\\lib\\site-packages (from pandas) (2024.1)\n",
      "Requirement already satisfied: tzdata>=2022.7 in c:\\users\\cemre\\anaconda3\\lib\\site-packages (from pandas) (2023.3)\n",
      "Requirement already satisfied: joblib>=1.2.0 in c:\\users\\cemre\\anaconda3\\lib\\site-packages (from scikit-learn) (1.4.2)\n",
      "Requirement already satisfied: threadpoolctl>=3.1.0 in c:\\users\\cemre\\anaconda3\\lib\\site-packages (from scikit-learn) (3.5.0)\n",
      "Requirement already satisfied: imbalanced-learn in c:\\users\\cemre\\anaconda3\\lib\\site-packages (from imblearn) (0.12.3)\n",
      "Requirement already satisfied: aiofiles<24.0,>=22.0 in c:\\users\\cemre\\anaconda3\\lib\\site-packages (from gradio) (23.2.1)\n",
      "Requirement already satisfied: anyio<5.0,>=3.0 in c:\\users\\cemre\\anaconda3\\lib\\site-packages (from gradio) (4.2.0)\n",
      "Requirement already satisfied: fastapi<1.0,>=0.115.2 in c:\\users\\cemre\\anaconda3\\lib\\site-packages (from gradio) (0.115.6)\n",
      "Requirement already satisfied: ffmpy in c:\\users\\cemre\\anaconda3\\lib\\site-packages (from gradio) (0.4.0)\n",
      "Requirement already satisfied: gradio-client==1.5.1 in c:\\users\\cemre\\anaconda3\\lib\\site-packages (from gradio) (1.5.1)\n",
      "Requirement already satisfied: httpx>=0.24.1 in c:\\users\\cemre\\anaconda3\\lib\\site-packages (from gradio) (0.27.0)\n",
      "Requirement already satisfied: jinja2<4.0 in c:\\users\\cemre\\anaconda3\\lib\\site-packages (from gradio) (3.1.4)\n",
      "Requirement already satisfied: markupsafe~=2.0 in c:\\users\\cemre\\anaconda3\\lib\\site-packages (from gradio) (2.1.3)\n",
      "Requirement already satisfied: orjson~=3.0 in c:\\users\\cemre\\anaconda3\\lib\\site-packages (from gradio) (3.10.12)\n",
      "Requirement already satisfied: pillow<12.0,>=8.0 in c:\\users\\cemre\\anaconda3\\lib\\site-packages (from gradio) (10.4.0)\n",
      "Requirement already satisfied: pydantic>=2.0 in c:\\users\\cemre\\anaconda3\\lib\\site-packages (from gradio) (2.8.2)\n",
      "Requirement already satisfied: pydub in c:\\users\\cemre\\anaconda3\\lib\\site-packages (from gradio) (0.25.1)\n",
      "Requirement already satisfied: python-multipart>=0.0.18 in c:\\users\\cemre\\anaconda3\\lib\\site-packages (from gradio) (0.0.19)\n",
      "Requirement already satisfied: ruff>=0.2.2 in c:\\users\\cemre\\anaconda3\\lib\\site-packages (from gradio) (0.8.2)\n",
      "Requirement already satisfied: safehttpx<0.2.0,>=0.1.6 in c:\\users\\cemre\\anaconda3\\lib\\site-packages (from gradio) (0.1.6)\n",
      "Requirement already satisfied: semantic-version~=2.0 in c:\\users\\cemre\\anaconda3\\lib\\site-packages (from gradio) (2.10.0)\n",
      "Requirement already satisfied: starlette<1.0,>=0.40.0 in c:\\users\\cemre\\anaconda3\\lib\\site-packages (from gradio) (0.41.3)\n",
      "Requirement already satisfied: tomlkit<0.14.0,>=0.12.0 in c:\\users\\cemre\\anaconda3\\lib\\site-packages (from gradio) (0.13.2)\n",
      "Requirement already satisfied: typer<1.0,>=0.12 in c:\\users\\cemre\\anaconda3\\lib\\site-packages (from gradio) (0.15.1)\n",
      "Requirement already satisfied: typing-extensions~=4.0 in c:\\users\\cemre\\anaconda3\\lib\\site-packages (from gradio) (4.11.0)\n",
      "Requirement already satisfied: uvicorn>=0.14.0 in c:\\users\\cemre\\anaconda3\\lib\\site-packages (from gradio) (0.32.1)\n",
      "Requirement already satisfied: fsspec in c:\\users\\cemre\\anaconda3\\lib\\site-packages (from gradio-client==1.5.1->gradio) (2024.6.1)\n",
      "Requirement already satisfied: websockets<15.0,>=10.0 in c:\\users\\cemre\\anaconda3\\lib\\site-packages (from gradio-client==1.5.1->gradio) (14.1)\n",
      "Requirement already satisfied: idna>=2.8 in c:\\users\\cemre\\anaconda3\\lib\\site-packages (from anyio<5.0,>=3.0->gradio) (3.7)\n",
      "Requirement already satisfied: sniffio>=1.1 in c:\\users\\cemre\\anaconda3\\lib\\site-packages (from anyio<5.0,>=3.0->gradio) (1.3.0)\n",
      "Requirement already satisfied: certifi in c:\\users\\cemre\\anaconda3\\lib\\site-packages (from httpx>=0.24.1->gradio) (2024.8.30)\n",
      "Requirement already satisfied: httpcore==1.* in c:\\users\\cemre\\anaconda3\\lib\\site-packages (from httpx>=0.24.1->gradio) (1.0.2)\n",
      "Requirement already satisfied: h11<0.15,>=0.13 in c:\\users\\cemre\\anaconda3\\lib\\site-packages (from httpcore==1.*->httpx>=0.24.1->gradio) (0.14.0)\n",
      "Requirement already satisfied: annotated-types>=0.4.0 in c:\\users\\cemre\\anaconda3\\lib\\site-packages (from pydantic>=2.0->gradio) (0.6.0)\n",
      "Requirement already satisfied: pydantic-core==2.20.1 in c:\\users\\cemre\\anaconda3\\lib\\site-packages (from pydantic>=2.0->gradio) (2.20.1)\n",
      "Requirement already satisfied: six>=1.5 in c:\\users\\cemre\\anaconda3\\lib\\site-packages (from python-dateutil>=2.8.2->pandas) (1.16.0)\n",
      "Requirement already satisfied: colorama in c:\\users\\cemre\\anaconda3\\lib\\site-packages (from tqdm>=4.27->transformers) (0.4.6)\n",
      "Requirement already satisfied: click>=8.0.0 in c:\\users\\cemre\\anaconda3\\lib\\site-packages (from typer<1.0,>=0.12->gradio) (8.1.7)\n",
      "Requirement already satisfied: shellingham>=1.3.0 in c:\\users\\cemre\\anaconda3\\lib\\site-packages (from typer<1.0,>=0.12->gradio) (1.5.4)\n",
      "Requirement already satisfied: rich>=10.11.0 in c:\\users\\cemre\\anaconda3\\lib\\site-packages (from typer<1.0,>=0.12->gradio) (13.7.1)\n",
      "Requirement already satisfied: docker-pycreds>=0.4.0 in c:\\users\\cemre\\anaconda3\\lib\\site-packages (from wandb>=0.10.32->simpletransformers) (0.4.0)\n",
      "Requirement already satisfied: gitpython!=3.1.29,>=1.0.0 in c:\\users\\cemre\\anaconda3\\lib\\site-packages (from wandb>=0.10.32->simpletransformers) (3.1.43)\n",
      "Requirement already satisfied: platformdirs in c:\\users\\cemre\\anaconda3\\lib\\site-packages (from wandb>=0.10.32->simpletransformers) (3.10.0)\n",
      "Requirement already satisfied: protobuf!=4.21.0,!=5.28.0,<6,>=3.19.0 in c:\\users\\cemre\\anaconda3\\lib\\site-packages (from wandb>=0.10.32->simpletransformers) (4.25.3)\n",
      "Requirement already satisfied: psutil>=5.0.0 in c:\\users\\cemre\\anaconda3\\lib\\site-packages (from wandb>=0.10.32->simpletransformers) (5.9.0)\n",
      "Requirement already satisfied: sentry-sdk>=2.0.0 in c:\\users\\cemre\\anaconda3\\lib\\site-packages (from wandb>=0.10.32->simpletransformers) (2.19.2)\n",
      "Requirement already satisfied: setproctitle in c:\\users\\cemre\\anaconda3\\lib\\site-packages (from wandb>=0.10.32->simpletransformers) (1.3.4)\n",
      "Requirement already satisfied: setuptools in c:\\users\\cemre\\anaconda3\\lib\\site-packages (from wandb>=0.10.32->simpletransformers) (75.1.0)\n",
      "Requirement already satisfied: charset-normalizer<4,>=2 in c:\\users\\cemre\\anaconda3\\lib\\site-packages (from requests->transformers) (3.3.2)\n",
      "Requirement already satisfied: urllib3<3,>=1.21.1 in c:\\users\\cemre\\anaconda3\\lib\\site-packages (from requests->transformers) (2.2.3)\n",
      "Requirement already satisfied: pyarrow>=15.0.0 in c:\\users\\cemre\\anaconda3\\lib\\site-packages (from datasets->simpletransformers) (16.1.0)\n",
      "Requirement already satisfied: dill<0.3.9,>=0.3.0 in c:\\users\\cemre\\anaconda3\\lib\\site-packages (from datasets->simpletransformers) (0.3.8)\n",
      "Requirement already satisfied: xxhash in c:\\users\\cemre\\anaconda3\\lib\\site-packages (from datasets->simpletransformers) (3.5.0)\n",
      "Requirement already satisfied: multiprocess<0.70.17 in c:\\users\\cemre\\anaconda3\\lib\\site-packages (from datasets->simpletransformers) (0.70.16)\n",
      "Requirement already satisfied: aiohttp in c:\\users\\cemre\\anaconda3\\lib\\site-packages (from datasets->simpletransformers) (3.10.5)\n",
      "Requirement already satisfied: altair<6,>=4.0 in c:\\users\\cemre\\anaconda3\\lib\\site-packages (from streamlit->simpletransformers) (5.0.1)\n",
      "Requirement already satisfied: blinker<2,>=1.0.0 in c:\\users\\cemre\\anaconda3\\lib\\site-packages (from streamlit->simpletransformers) (1.6.2)\n",
      "Requirement already satisfied: cachetools<6,>=4.0 in c:\\users\\cemre\\anaconda3\\lib\\site-packages (from streamlit->simpletransformers) (5.3.3)\n",
      "Requirement already satisfied: tenacity<9,>=8.1.0 in c:\\users\\cemre\\anaconda3\\lib\\site-packages (from streamlit->simpletransformers) (8.2.3)\n",
      "Requirement already satisfied: toml<2,>=0.10.1 in c:\\users\\cemre\\anaconda3\\lib\\site-packages (from streamlit->simpletransformers) (0.10.2)\n",
      "Requirement already satisfied: pydeck<1,>=0.8.0b4 in c:\\users\\cemre\\anaconda3\\lib\\site-packages (from streamlit->simpletransformers) (0.8.0)\n",
      "Requirement already satisfied: tornado<7,>=6.0.3 in c:\\users\\cemre\\anaconda3\\lib\\site-packages (from streamlit->simpletransformers) (6.4.1)\n",
      "Requirement already satisfied: watchdog<5,>=2.1.5 in c:\\users\\cemre\\anaconda3\\lib\\site-packages (from streamlit->simpletransformers) (4.0.1)\n",
      "Requirement already satisfied: absl-py>=0.4 in c:\\users\\cemre\\anaconda3\\lib\\site-packages (from tensorboard->simpletransformers) (2.1.0)\n",
      "Requirement already satisfied: grpcio>=1.48.2 in c:\\users\\cemre\\anaconda3\\lib\\site-packages (from tensorboard->simpletransformers) (1.67.1)\n",
      "Requirement already satisfied: markdown>=2.6.8 in c:\\users\\cemre\\anaconda3\\lib\\site-packages (from tensorboard->simpletransformers) (3.4.1)\n",
      "Requirement already satisfied: tensorboard-data-server<0.8.0,>=0.7.0 in c:\\users\\cemre\\anaconda3\\lib\\site-packages (from tensorboard->simpletransformers) (0.7.2)\n",
      "Requirement already satisfied: werkzeug>=1.0.1 in c:\\users\\cemre\\anaconda3\\lib\\site-packages (from tensorboard->simpletransformers) (3.0.3)\n",
      "Requirement already satisfied: jsonschema>=3.0 in c:\\users\\cemre\\anaconda3\\lib\\site-packages (from altair<6,>=4.0->streamlit->simpletransformers) (4.23.0)\n",
      "Requirement already satisfied: toolz in c:\\users\\cemre\\anaconda3\\lib\\site-packages (from altair<6,>=4.0->streamlit->simpletransformers) (0.12.0)\n",
      "Requirement already satisfied: aiohappyeyeballs>=2.3.0 in c:\\users\\cemre\\anaconda3\\lib\\site-packages (from aiohttp->datasets->simpletransformers) (2.4.0)\n",
      "Requirement already satisfied: aiosignal>=1.1.2 in c:\\users\\cemre\\anaconda3\\lib\\site-packages (from aiohttp->datasets->simpletransformers) (1.2.0)\n",
      "Requirement already satisfied: attrs>=17.3.0 in c:\\users\\cemre\\anaconda3\\lib\\site-packages (from aiohttp->datasets->simpletransformers) (23.1.0)\n",
      "Requirement already satisfied: frozenlist>=1.1.1 in c:\\users\\cemre\\anaconda3\\lib\\site-packages (from aiohttp->datasets->simpletransformers) (1.4.0)\n",
      "Requirement already satisfied: multidict<7.0,>=4.5 in c:\\users\\cemre\\anaconda3\\lib\\site-packages (from aiohttp->datasets->simpletransformers) (6.0.4)\n",
      "Requirement already satisfied: yarl<2.0,>=1.0 in c:\\users\\cemre\\anaconda3\\lib\\site-packages (from aiohttp->datasets->simpletransformers) (1.11.0)\n",
      "Requirement already satisfied: gitdb<5,>=4.0.1 in c:\\users\\cemre\\anaconda3\\lib\\site-packages (from gitpython!=3.1.29,>=1.0.0->wandb>=0.10.32->simpletransformers) (4.0.7)\n",
      "Requirement already satisfied: markdown-it-py>=2.2.0 in c:\\users\\cemre\\anaconda3\\lib\\site-packages (from rich>=10.11.0->typer<1.0,>=0.12->gradio) (2.2.0)\n",
      "Requirement already satisfied: pygments<3.0.0,>=2.13.0 in c:\\users\\cemre\\anaconda3\\lib\\site-packages (from rich>=10.11.0->typer<1.0,>=0.12->gradio) (2.15.1)\n",
      "Requirement already satisfied: smmap<5,>=3.0.1 in c:\\users\\cemre\\anaconda3\\lib\\site-packages (from gitdb<5,>=4.0.1->gitpython!=3.1.29,>=1.0.0->wandb>=0.10.32->simpletransformers) (4.0.0)\n",
      "Requirement already satisfied: jsonschema-specifications>=2023.03.6 in c:\\users\\cemre\\anaconda3\\lib\\site-packages (from jsonschema>=3.0->altair<6,>=4.0->streamlit->simpletransformers) (2023.7.1)\n",
      "Requirement already satisfied: referencing>=0.28.4 in c:\\users\\cemre\\anaconda3\\lib\\site-packages (from jsonschema>=3.0->altair<6,>=4.0->streamlit->simpletransformers) (0.30.2)\n",
      "Requirement already satisfied: rpds-py>=0.7.1 in c:\\users\\cemre\\anaconda3\\lib\\site-packages (from jsonschema>=3.0->altair<6,>=4.0->streamlit->simpletransformers) (0.10.6)\n",
      "Requirement already satisfied: mdurl~=0.1 in c:\\users\\cemre\\anaconda3\\lib\\site-packages (from markdown-it-py>=2.2.0->rich>=10.11.0->typer<1.0,>=0.12->gradio) (0.1.0)\n"
     ]
    },
    {
     "name": "stderr",
     "output_type": "stream",
     "text": [
      "Some weights of AlbertForSequenceClassification were not initialized from the model checkpoint at albert-base-v2 and are newly initialized: ['classifier.bias', 'classifier.weight']\n",
      "You should probably TRAIN this model on a down-stream task to be able to use it for predictions and inference.\n"
     ]
    },
    {
     "data": {
      "application/vnd.jupyter.widget-view+json": {
       "model_id": "3910922080144811aba897435c891191",
       "version_major": 2,
       "version_minor": 0
      },
      "text/plain": [
       "  0%|          | 0/4 [00:00<?, ?it/s]"
      ]
     },
     "metadata": {},
     "output_type": "display_data"
    },
    {
     "data": {
      "application/vnd.jupyter.widget-view+json": {
       "model_id": "f42fad8e9ab543e68c9092ca4748ee47",
       "version_major": 2,
       "version_minor": 0
      },
      "text/plain": [
       "Epoch:   0%|          | 0/5 [00:00<?, ?it/s]"
      ]
     },
     "metadata": {},
     "output_type": "display_data"
    },
    {
     "data": {
      "application/vnd.jupyter.widget-view+json": {
       "model_id": "73743fe54b6344dea7066adc87d094a9",
       "version_major": 2,
       "version_minor": 0
      },
      "text/plain": [
       "Running Epoch 1 of 5:   0%|          | 0/156 [00:00<?, ?it/s]"
      ]
     },
     "metadata": {},
     "output_type": "display_data"
    },
    {
     "data": {
      "application/vnd.jupyter.widget-view+json": {
       "model_id": "0a200486e6af48bf9acab763421d1028",
       "version_major": 2,
       "version_minor": 0
      },
      "text/plain": [
       "Running Epoch 2 of 5:   0%|          | 0/156 [00:00<?, ?it/s]"
      ]
     },
     "metadata": {},
     "output_type": "display_data"
    },
    {
     "data": {
      "application/vnd.jupyter.widget-view+json": {
       "model_id": "22fce81faa474962abbf32f16210cbd1",
       "version_major": 2,
       "version_minor": 0
      },
      "text/plain": [
       "Running Epoch 3 of 5:   0%|          | 0/156 [00:00<?, ?it/s]"
      ]
     },
     "metadata": {},
     "output_type": "display_data"
    },
    {
     "data": {
      "application/vnd.jupyter.widget-view+json": {
       "model_id": "ff8f6543ac9745528fb14ee857d7e984",
       "version_major": 2,
       "version_minor": 0
      },
      "text/plain": [
       "Running Epoch 4 of 5:   0%|          | 0/156 [00:00<?, ?it/s]"
      ]
     },
     "metadata": {},
     "output_type": "display_data"
    }
   ],
   "source": [
    "# Gerekli kütüphaneleri yükleyin\n",
    "!pip install transformers simpletransformers pandas scikit-learn imblearn gradio\n",
    "\n",
    "import pandas as pd\n",
    "from sklearn.model_selection import train_test_split\n",
    "from simpletransformers.classification import ClassificationModel\n",
    "from sklearn.metrics import classification_report, accuracy_score\n",
    "from sklearn.feature_extraction.text import TfidfVectorizer\n",
    "from imblearn.over_sampling import SMOTE\n",
    "import gradio as gr\n",
    "\n",
    "# Veriyi yükleyin ve inceleyin\n",
    "data_path = \"metin_verileri.xlsx\"\n",
    "data = pd.read_excel(data_path)\n",
    "data = data.rename(columns={\"kategori\": \"labels\", \"metin\": \"text\"})\n",
    "\n",
    "# Etiketleri sayısallaştırma\n",
    "data[\"labels\"] = data[\"labels\"].astype(\"category\")\n",
    "label_map = dict(enumerate(data[\"labels\"].cat.categories))\n",
    "data[\"labels\"] = data[\"labels\"].cat.codes\n",
    "\n",
    "# Metin verisini TfidfVectorizer ile dönüştürme\n",
    "tfidf = TfidfVectorizer(max_features=5000)\n",
    "X_tfidf = tfidf.fit_transform(data[\"text\"]).toarray()\n",
    "y = data[\"labels\"]\n",
    "\n",
    "# SMOTE ile veri dengesini artırma\n",
    "smote = SMOTE(random_state=42)\n",
    "X_resampled, y_resampled = smote.fit_resample(X_tfidf, y)\n",
    "\n",
    "# Resampled veriyi DataFrame olarak oluşturma\n",
    "resampled_data = pd.DataFrame(X_resampled, columns=[f\"feature_{i}\" for i in range(X_resampled.shape[1])])\n",
    "resampled_data[\"labels\"] = y_resampled\n",
    "\n",
    "# Veriyi train ve test olarak ayırma\n",
    "train_df, test_df = train_test_split(resampled_data, test_size=0.2, random_state=42)\n",
    "\n",
    "# ALBERT modeli için metin ve etiketleri geri yükleme\n",
    "train_texts = tfidf.inverse_transform(train_df.drop(columns=[\"labels\"]).values)\n",
    "train_labels = train_df[\"labels\"].values\n",
    "test_texts = tfidf.inverse_transform(test_df.drop(columns=[\"labels\"]).values)\n",
    "test_labels = test_df[\"labels\"].values\n",
    "\n",
    "train_df = pd.DataFrame({\"text\": [\" \".join(text) for text in train_texts], \"labels\": train_labels})\n",
    "test_df = pd.DataFrame({\"text\": [\" \".join(text) for text in test_texts], \"labels\": test_labels})\n",
    "\n",
    "# ALBERT modeli oluşturma\n",
    "model = ClassificationModel(\n",
    "    \"albert\", \"albert-base-v2\", \n",
    "    num_labels=len(data[\"labels\"].unique()),\n",
    "    args={\n",
    "        \"reprocess_input_data\": True,\n",
    "        \"overwrite_output_dir\": True,\n",
    "        \"num_train_epochs\": 5,  # Daha fazla epoch\n",
    "        \"learning_rate\": 2e-5,  # Daha iyi öğrenme oranı\n",
    "        \"train_batch_size\": 16,\n",
    "        \"eval_batch_size\": 16,\n",
    "        \"max_seq_length\": 128,\n",
    "        \"output_dir\": \"outputs/\",\n",
    "        \"save_steps\": -1,\n",
    "    },\n",
    "    use_cuda=False  # CUDA desteği varsa True yapabilirsiniz\n",
    ")\n",
    "\n",
    "# Modeli eğitme\n",
    "model.train_model(train_df)\n",
    "\n",
    "# Modeli değerlendirme\n",
    "result, model_outputs, wrong_predictions = model.eval_model(test_df, acc=accuracy_score)\n",
    "\n",
    "# Performans raporu\n",
    "print(\"Accuracy:\", result[\"acc\"])\n",
    "y_pred = [model_outputs[i].argmax() for i in range(len(model_outputs))]\n",
    "y_true = test_df[\"labels\"].tolist()\n",
    "print(classification_report(y_true, y_pred))\n",
    "\n",
    "# Gradio arayüzü\n",
    "\n",
    "def classify_text(input_text):\n",
    "    predictions, _ = model.predict([input_text])\n",
    "    return label_map[predictions[0]]\n",
    "\n",
    "interface = gr.Interface(\n",
    "    fn=classify_text,\n",
    "    inputs=gr.Textbox(lines=5, placeholder=\"Metni buraya yazın...\"),\n",
    "    outputs=\"text\",\n",
    "    title=\"Haber Sınıflandırıcı\",\n",
    "    description=\"Bir metin girin ve sınıflandırmasını öğrenin.\"\n",
    ")\n",
    "\n",
    "interface.launch()\n"
   ]
  },
  {
   "cell_type": "code",
   "execution_count": null,
   "id": "22ea3c4d-ca34-4268-ba38-f906b93d1466",
   "metadata": {},
   "outputs": [],
   "source": []
  },
  {
   "cell_type": "code",
   "execution_count": 9,
   "id": "44cd3691-9e6d-4856-906f-a136c51538c1",
   "metadata": {},
   "outputs": [
    {
     "name": "stdout",
     "output_type": "stream",
     "text": [
      "C:\\Users\\cemre\n"
     ]
    }
   ],
   "source": [
    "import os\n",
    "print(os.getcwd())\n",
    "\n"
   ]
  },
  {
   "cell_type": "code",
   "execution_count": null,
   "id": "c1d9ad5b-0d5e-472a-9a7a-a43fc5c3666e",
   "metadata": {},
   "outputs": [],
   "source": []
  }
 ],
 "metadata": {
  "kernelspec": {
   "display_name": "Python 3 (ipykernel)",
   "language": "python",
   "name": "python3"
  },
  "language_info": {
   "codemirror_mode": {
    "name": "ipython",
    "version": 3
   },
   "file_extension": ".py",
   "mimetype": "text/x-python",
   "name": "python",
   "nbconvert_exporter": "python",
   "pygments_lexer": "ipython3",
   "version": "3.12.7"
  }
 },
 "nbformat": 4,
 "nbformat_minor": 5
}
